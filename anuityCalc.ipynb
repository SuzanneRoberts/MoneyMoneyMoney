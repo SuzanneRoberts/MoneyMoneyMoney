# I hope this will create a Jupyter script for me to where I can think about and do an anuity calculation.
